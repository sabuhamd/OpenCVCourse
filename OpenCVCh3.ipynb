{
 "cells": [
  {
   "cell_type": "markdown",
   "id": "83827d06-db29-4388-9555-e63474ef8093",
   "metadata": {},
   "source": [
    "Module 2"
   ]
  },
  {
   "cell_type": "code",
   "execution_count": 1,
   "id": "0ff12aad-e244-44fd-b801-38e970af3bc3",
   "metadata": {},
   "outputs": [],
   "source": [
    "import numpy as np\n",
    "import cv2"
   ]
  },
  {
   "cell_type": "code",
   "execution_count": 5,
   "id": "29ed3cf7-3b9f-4c6c-a759-93bf7da4f70c",
   "metadata": {},
   "outputs": [],
   "source": [
    "bw = cv2.imread('detect_blob.png', 0)\n",
    "height, width = bw.shape[0:2]\n",
    "cv2.imshow(\"Original BW\", bw)\n",
    "\n",
    "binary = np.zeros([height, width,1],'uint8')\n",
    "\n",
    "thresh = 85\n",
    "\n",
    "for row in range(0, height):\n",
    "    for col in range(0, width):\n",
    "        if bw[row][col]>thresh:\n",
    "            binary[row][col]=255\n",
    "\n",
    "cv2.imshow(\"Slow Binary\", binary)\n",
    "\n",
    "ret, thresh = cv2.threshold(bw, thresh, 255,cv2.THRESH_BINARY)\n",
    "cv2.imshow(\"CV Threshold\", thresh)\n",
    "cv2.waitKey(0)\n",
    "cv2.destroyAllWindows()\n"
   ]
  },
  {
   "cell_type": "markdown",
   "id": "e5880929-614c-4489-80c0-4518b734da9a",
   "metadata": {},
   "source": [
    "Module 3"
   ]
  },
  {
   "cell_type": "code",
   "execution_count": 13,
   "id": "4068586e-8abf-4432-bacd-27dab64a7f67",
   "metadata": {},
   "outputs": [],
   "source": [
    "img = cv2.imread('sudoku.png',0)\n",
    "\n",
    "cv2.imshow(\"Original\", img)\n",
    "\n",
    "ret, thresh_basic = cv2.threshold(img, 70, 255, cv2.THRESH_BINARY)\n",
    "cv2.imshow(\"Basic Binary\", thresh_basic)\n",
    "\n",
    "\n",
    "thresh_adapt = cv2.adaptiveThreshold(img, 255, cv2.ADAPTIVE_THRESH_GAUSSIAN_C, cv2.THRESH_BINARY, 115, 1)\n",
    "cv2.imshow(\"Adaptive Threshold\", thresh_adapt)\n",
    "cv2.waitKey(0)\n",
    "cv2.destroyAllWindows()"
   ]
  },
  {
   "cell_type": "markdown",
   "id": "80849c06-1106-428b-a3e3-afa6eb876789",
   "metadata": {},
   "source": [
    "Modlue 4"
   ]
  },
  {
   "cell_type": "code",
   "execution_count": 20,
   "id": "e3afae1d-8bbb-4be5-a981-f97f8d902d13",
   "metadata": {},
   "outputs": [],
   "source": [
    "img2 = cv2.imread('faces.jpeg', 1)\n",
    "hsv = cv2.cvtColor(img2, cv2.COLOR_BGR2HSV)\n",
    "h = hsv[:,:,0]\n",
    "s = hsv[:,:,1]\n",
    "v = hsv[:,:,2]\n",
    "\n",
    "hsv_split = np.concatenate((h, s, v), axis = 1)\n",
    "cv2.imshow(\"Split HSV\", hsv_split)\n",
    "\n",
    "ret, min_sat = cv2.threshold(s,40,255, cv2.THRESH_BINARY)\n",
    "cv2.imshow(\"Sat Filter\", min_sat)\n",
    "\n",
    "ret, max_hue = cv2.threshold(h, 15, 255, cv2.THRESH_BINARY_INV)\n",
    "cv2.imshow(\"Hue Filter\", max_hue)\n",
    "\n",
    "final = cv2.bitwise_and(min_sat, max_hue)\n",
    "cv2.imshow(\"Final\", final)\n",
    "cv2.imshow(\"Origina\", img)\n",
    "\n",
    "cv2.waitKey(0)\n",
    "cv2.destroyAllWindows()"
   ]
  },
  {
   "cell_type": "markdown",
   "id": "187a5b4b-a386-4718-b4dc-a602d92e2e94",
   "metadata": {},
   "source": [
    "Module 6"
   ]
  },
  {
   "cell_type": "code",
   "execution_count": 24,
   "id": "4efaae65-75dc-4eaa-947f-a2eb34258d5c",
   "metadata": {},
   "outputs": [],
   "source": [
    "img = cv2.imread('detect_blob.png', 1)\n",
    "gray = cv2.cvtColor(img, cv2.COLOR_RGB2GRAY)\n",
    "thresh = cv2.adaptiveThreshold(gray, 255, cv2.ADAPTIVE_THRESH_GAUSSIAN_C, cv2.THRESH_BINARY, 115,1)\n",
    "\n",
    "cv2.imshow(\"Binary\", thresh)\n",
    "\n",
    "\n",
    "contours, hierarchy = cv2.findContours(thresh, cv2.RETR_TREE, cv2.CHAIN_APPROX_SIMPLE)\n",
    "\n",
    "img2 = img.copy()\n",
    "\n",
    "index = -1\n",
    "thickness = 4\n",
    "color =(255,0,255)\n",
    "\n",
    "cv2.drawContours(img2, contours, index, color, thickness)\n",
    "\n",
    "cv2.imshow(\"Contours\", img2)\n",
    "cv2.waitKey(0)\n",
    "cv2.destroyAllWindows()"
   ]
  },
  {
   "cell_type": "markdown",
   "id": "ad43f781-6928-4ae8-a81d-be153567fc72",
   "metadata": {},
   "source": [
    "Module 7"
   ]
  },
  {
   "cell_type": "code",
   "execution_count": 27,
   "id": "19e4692e-6fcc-4be5-953c-334c661d35ca",
   "metadata": {},
   "outputs": [
    {
     "name": "stdout",
     "output_type": "stream",
     "text": [
      "Area: 86.5, perimeter: 45.55634891986847\n",
      "Area: 959.5, perimeter: 251.8406196832657\n",
      "Area: 13091.5, perimeter: 754.0416301488876\n",
      "Area: 10069.5, perimeter: 401.41421353816986\n",
      "Area: 7780.0, perimeter: 329.22034430503845\n",
      "Area: 4160.0, perimeter: 258.0\n",
      "Area: 1672.0, perimeter: 160.48528122901917\n",
      "Area: 14515.0, perimeter: 1225.768675327301\n",
      "Area: 6357.0, perimeter: 446.9116872549057\n",
      "Area: 7718.0, perimeter: 484.8284270763397\n",
      "Area: 4592.5, perimeter: 502.0315263271332\n",
      "Area: 5014.0, perimeter: 357.2792183160782\n",
      "Area: 5019.0, perimeter: 444.3675308227539\n",
      "Area: 8829.0, perimeter: 450.5929263830185\n",
      "Area: 108.0, perimeter: 41.79898953437805\n",
      "Area: 551.5, perimeter: 93.41421353816986\n",
      "Area: 2707.5, perimeter: 194.75230765342712\n",
      "Area: 1644.5, perimeter: 152.1248904466629\n",
      "Area: 767.0, perimeter: 105.74011433124542\n",
      "Area: 3501.5, perimeter: 251.0710676908493\n",
      "Area: 8556.0, perimeter: 345.70562493801117\n",
      "Area: 8868.0, perimeter: 378.8284270763397\n",
      "Area: 865.0, perimeter: 185.4558435678482\n",
      "Area: 1482.0, perimeter: 244.16652035713196\n",
      "Area: 747.0, perimeter: 102.9116872549057\n",
      "Area: 1638.0, perimeter: 152.36753034591675\n",
      "Area: 1.0, perimeter: 4114.82842707634\n"
     ]
    }
   ],
   "source": [
    "img = cv2.imread('detect_blob.png', 1)\n",
    "gray = cv2.cvtColor(img, cv2.COLOR_RGB2GRAY)\n",
    "thresh = cv2.adaptiveThreshold(gray, 255, cv2.ADAPTIVE_THRESH_GAUSSIAN_C, cv2.THRESH_BINARY, 115,1)\n",
    "\n",
    "cv2.imshow(\"Binary\", thresh)\n",
    "\n",
    "\n",
    "contours, hierarchy = cv2.findContours(thresh, cv2.RETR_TREE, cv2.CHAIN_APPROX_SIMPLE)\n",
    "\n",
    "img2 = img.copy()\n",
    "\n",
    "index = -1\n",
    "thickness = 4\n",
    "color =(255,0,255)\n",
    "\n",
    "objects = np.zeros([img.shape[0], img.shape[1], 3], 'uint8')\n",
    "\n",
    "for c in contours:\n",
    "    cv2.drawContours(objects, [c], -1, color, -1)\n",
    "    area = cv2.contourArea(c)\n",
    "    perimeter = cv2.arcLength(c, True)\n",
    "    M = cv2.moments(c)\n",
    "    cx = int(M['m10']/ M['m00'])\n",
    "    cy = int(M['m01'] / M['m00'])\n",
    "\n",
    "    cv2.circle(objects, (cx, cy), 4, (0,0,255), -1)\n",
    "    print(f\"Area: {area}, perimeter: {perimeter}\")\n",
    "cv2.imshow(\"Contours\", objects)\n",
    "\n",
    "cv2.waitKey(0)\n",
    "cv2.destroyAllWindows()"
   ]
  },
  {
   "cell_type": "markdown",
   "id": "9b847576-34a1-47df-9aa3-1825f9b70d7f",
   "metadata": {},
   "source": [
    "Module 8"
   ]
  },
  {
   "cell_type": "code",
   "execution_count": 36,
   "id": "29d1b4b9-e469-4618-a55d-461ab69afc52",
   "metadata": {},
   "outputs": [
    {
     "name": "stdout",
     "output_type": "stream",
     "text": [
      "Area:  1788.5\n",
      "Area:  1518.5\n",
      "Area:  966.5\n",
      "Area:  1436.0\n",
      "Area:  517.5\n",
      "Area:  6313.5\n",
      "Area:  6930.0\n",
      "Area:  307.0\n",
      "Area:  2636.0\n",
      "Area:  374.0\n"
     ]
    }
   ],
   "source": [
    "img = cv2.imread(\"tomatoes.jpg\", 1)\n",
    "\n",
    "hsv = cv2.cvtColor(img, cv2.COLOR_BGR2HSV)\n",
    "res, thresh = cv2.threshold(hsv[:,:,0], 25, 255, cv2.THRESH_BINARY_INV)\n",
    "cv2.imshow(\"Thresh\", thresh)\n",
    "\n",
    "edges = cv2.Canny(img, 100, 200, apertureSize=3)\n",
    "cv2.imshow(\"Canny\", edges)\n",
    "\n",
    "edge_inv = 255 - edges\n",
    "\n",
    "kernel = np.ones((3,3), 'uint8')\n",
    "erode = cv2.erode(edge_inv, kernel, iterations = 1)\n",
    "\n",
    "canny_thresh = cv2.bitwise_and(erode, thresh)\n",
    "cv2.imshow(\"Canny thresh\", canny_thresh)\n",
    "\n",
    "contours, hierarchy = cv2.findContours(\n",
    "    canny_thresh, cv2.RETR_TREE, cv2.CHAIN_APPROX_SIMPLE)\n",
    "\n",
    "objects = img.copy()\n",
    "for c in contours:\n",
    "    area = cv2.contourArea(c)\n",
    "    if area < 300:\n",
    "        continue\n",
    "    print(\"Area: \", area)\n",
    "    cv2.drawContours(objects, [c], -1, (255,255, 255), 1)\n",
    "    M = cv2.moments(c)\n",
    "    cx = int(M['m10']/ M['m00'])\n",
    "    cy = int(M['m01'] / M['m00'])\n",
    "\n",
    "    cv2.circle(objects, (cx, cy), 4, (255,255,0), -1)\n",
    "cv2.imshow(\"Final draw-over\", objects)\n",
    "cv2.waitKey(0)\n",
    "cv2.destroyAllWindows()"
   ]
  },
  {
   "cell_type": "code",
   "execution_count": null,
   "id": "8fb57d81-517f-440f-acd9-ba97966cd11f",
   "metadata": {},
   "outputs": [],
   "source": []
  }
 ],
 "metadata": {
  "kernelspec": {
   "display_name": "Python 3 (ipykernel)",
   "language": "python",
   "name": "python3"
  },
  "language_info": {
   "codemirror_mode": {
    "name": "ipython",
    "version": 3
   },
   "file_extension": ".py",
   "mimetype": "text/x-python",
   "name": "python",
   "nbconvert_exporter": "python",
   "pygments_lexer": "ipython3",
   "version": "3.12.4"
  }
 },
 "nbformat": 4,
 "nbformat_minor": 5
}
