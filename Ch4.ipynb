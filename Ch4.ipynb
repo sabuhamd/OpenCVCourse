{
 "cells": [
  {
   "cell_type": "markdown",
   "id": "c18ea27e-b244-4f74-bcd4-f0b197c1dd77",
   "metadata": {},
   "source": [
    "Module 3"
   ]
  },
  {
   "cell_type": "code",
   "execution_count": 2,
   "id": "189c28dc-33ce-46b7-863f-ab8ad8e774e4",
   "metadata": {},
   "outputs": [],
   "source": [
    "import numpy as np\n",
    "import cv2\n"
   ]
  },
  {
   "cell_type": "code",
   "execution_count": 10,
   "id": "0dffd807-3c97-43d5-a6df-7688908f15c1",
   "metadata": {},
   "outputs": [
    {
     "name": "stdout",
     "output_type": "stream",
     "text": [
      "0.4659745395183563 (132, 243)\n"
     ]
    }
   ],
   "source": [
    "# Templlate Matching\n",
    "template = cv2.imread('template.jpg', 0)\n",
    "frame = cv2.imread(\"players.jpg\", 0)\n",
    "\n",
    "cv2.imshow(\"Frame\", frame)\n",
    "cv2.imshow(\"Template\", template)\n",
    "\n",
    "result = cv2.matchTemplate(frame, template, cv2.TM_CCOEFF_NORMED)\n",
    "\n",
    "min_val, max_val, min_loc, max_loc = cv2.minMaxLoc(result)\n",
    "print(max_val, max_loc)\n",
    "cv2.circle(result, max_loc, 15,255,2)\n",
    "                                                   \n",
    "cv2.imshow(\"Matching\", result)\n",
    "\n",
    "cv2.waitKey(0)\n",
    "cv2.destroyAllWindows()"
   ]
  },
  {
   "cell_type": "markdown",
   "id": "2522512b-b695-4e59-9ef7-5606c5445a40",
   "metadata": {},
   "source": [
    "Module 5"
   ]
  },
  {
   "cell_type": "code",
   "execution_count": 15,
   "id": "927089e0-7f79-402b-9378-76096b3e08cd",
   "metadata": {},
   "outputs": [],
   "source": [
    "# Face Detection\n",
    "img = cv2.imread(\"faces.jpeg\",1)\n",
    "gray = cv2.cvtColor(img,cv2.COLOR_BGR2GRAY)\n",
    "path = \"haarcascade_frontalface_default.xml\"\n",
    "\n",
    "face_cascade = cv2.CascadeClassifier(path)\n",
    "faces = face_cascade.detectMultiScale(gray, scaleFactor=1.05, minNeighbors=5, minSize = (40,40))\n",
    "\n",
    "for (x, y, w, h) in faces:\n",
    "    cv2.rectangle(img, (x,y), (x+w,y+h), (0,255,0),2)\n",
    "cv2.imshow(\"Image\", img)\n",
    "cv2.waitKey(0)\n",
    "cv2.destroyAllWindows()"
   ]
  },
  {
   "cell_type": "code",
   "execution_count": null,
   "id": "63269eec-b5d1-4d13-9154-1ee4cdef4cf4",
   "metadata": {},
   "outputs": [],
   "source": []
  }
 ],
 "metadata": {
  "kernelspec": {
   "display_name": "Python 3 (ipykernel)",
   "language": "python",
   "name": "python3"
  },
  "language_info": {
   "codemirror_mode": {
    "name": "ipython",
    "version": 3
   },
   "file_extension": ".py",
   "mimetype": "text/x-python",
   "name": "python",
   "nbconvert_exporter": "python",
   "pygments_lexer": "ipython3",
   "version": "3.12.4"
  }
 },
 "nbformat": 4,
 "nbformat_minor": 5
}
