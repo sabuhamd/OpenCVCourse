{
 "cells": [
  {
   "cell_type": "code",
   "execution_count": 1,
   "id": "e3778220-460c-4f17-9ffb-37c40b844e86",
   "metadata": {},
   "outputs": [],
   "source": [
    "import numpy as np\n",
    "import cv2\n",
    "\n"
   ]
  },
  {
   "cell_type": "code",
   "execution_count": 120,
   "id": "96a306bf-018d-4053-8287-024c29087f41",
   "metadata": {},
   "outputs": [],
   "source": [
    "# Global Variables\n",
    "canvas = np.ones([500,500,3],'uint8')*255\n"
   ]
  },
  {
   "cell_type": "code",
   "execution_count": 122,
   "id": "32e058c4-73c8-4f5d-bbd7-453dd74a8641",
   "metadata": {},
   "outputs": [],
   "source": [
    "# Colored circles\n",
    "color = (0,0,255)\n",
    "\n",
    "line_width = 3\n",
    "radius = 3\n",
    "\n",
    "pressed = False"
   ]
  },
  {
   "cell_type": "code",
   "execution_count": 124,
   "id": "da348435-a061-4fef-a32b-29cff012a416",
   "metadata": {},
   "outputs": [],
   "source": [
    "# click callback\n",
    "def click(event, x, y, flags, param):\n",
    "    global canvas, pressed\n",
    "    if event == cv2.EVENT_LBUTTONDOWN:\n",
    "        pressed = True\n",
    "        \n",
    "        \n",
    "        cv2.circle(canvas, (x,y), radius, color, -1)\n",
    "    elif event == cv2.EVENT_MOUSEMOVE and pressed == True:\n",
    "        \n",
    "        \n",
    "        cv2.circle(canvas, (x,y), radius, color, -1)\n",
    "    elif event == cv2.EVENT_LBUTTONUP:\n",
    "      \n",
    "        pressed = False\n",
    "        \n",
    "\n"
   ]
  },
  {
   "cell_type": "code",
   "execution_count": 126,
   "id": "611601d5-667a-4b7f-ab36-0eed6b2cc051",
   "metadata": {},
   "outputs": [],
   "source": [
    "# window initialization and callback assignment\n",
    "cv2.namedWindow(\"canvas\")\n",
    "cv2.setMouseCallback(\"canvas\", click)\n"
   ]
  },
  {
   "cell_type": "code",
   "execution_count": 128,
   "id": "8e257fbd-cb72-47e6-958d-2a338b5937e7",
   "metadata": {},
   "outputs": [],
   "source": [
    "# Forever draw loop\n",
    "while True:\n",
    "    \n",
    "    cv2.imshow(\"canvas\", canvas)\n",
    "\n",
    "    # key capture every 1ms\n",
    "    ch = cv2.waitKey(1)\n",
    "    if ch & 0xFF == ord('q'):\n",
    "        break\n",
    "    elif ch & 0xFF == ord('b'):\n",
    "        color = (255, 0, 0)\n",
    "    elif ch & 0xFF == ord('g'):\n",
    "        color = (0,255,0)\n",
    "cv2.destroyAllWindows()"
   ]
  },
  {
   "cell_type": "code",
   "execution_count": null,
   "id": "5bb1eb31-8596-4f2a-982f-ac2a6407b5b2",
   "metadata": {},
   "outputs": [],
   "source": []
  }
 ],
 "metadata": {
  "kernelspec": {
   "display_name": "Python 3 (ipykernel)",
   "language": "python",
   "name": "python3"
  },
  "language_info": {
   "codemirror_mode": {
    "name": "ipython",
    "version": 3
   },
   "file_extension": ".py",
   "mimetype": "text/x-python",
   "name": "python",
   "nbconvert_exporter": "python",
   "pygments_lexer": "ipython3",
   "version": "3.12.4"
  }
 },
 "nbformat": 4,
 "nbformat_minor": 5
}
