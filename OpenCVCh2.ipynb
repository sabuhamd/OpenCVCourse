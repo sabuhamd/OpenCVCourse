{
 "cells": [
  {
   "cell_type": "code",
   "execution_count": 3,
   "id": "2312c8b2-5245-4b32-ad1e-80338a6026fa",
   "metadata": {},
   "outputs": [
    {
     "data": {
      "text/plain": [
       "'4.10.0'"
      ]
     },
     "execution_count": 3,
     "metadata": {},
     "output_type": "execute_result"
    }
   ],
   "source": [
    "import cv2\n",
    "import numpy as np\n",
    "\n",
    "cv2.__version__"
   ]
  },
  {
   "cell_type": "code",
   "execution_count": 9,
   "id": "c116eb71-498e-4506-82d3-d23241e41b8b",
   "metadata": {},
   "outputs": [],
   "source": [
    "img = cv2.imread(\"opencv-logo.png\") # load image"
   ]
  },
  {
   "cell_type": "code",
   "execution_count": 15,
   "id": "7f1a746a-d4c9-4e1b-a4f4-d79af9c878a9",
   "metadata": {},
   "outputs": [],
   "source": [
    "cv2.namedWindow(\"Image\", cv2.WINDOW_NORMAL) #prepare viewing window"
   ]
  },
  {
   "cell_type": "code",
   "execution_count": 17,
   "id": "99d01b81-25c4-4afb-a664-63c7041e46c0",
   "metadata": {},
   "outputs": [],
   "source": [
    "cv2.imshow(\"image\", img) #display image"
   ]
  },
  {
   "cell_type": "code",
   "execution_count": 19,
   "id": "d6be0057-7176-4215-b43c-548a19d34bc8",
   "metadata": {},
   "outputs": [
    {
     "data": {
      "text/plain": [
       "27"
      ]
     },
     "execution_count": 19,
     "metadata": {},
     "output_type": "execute_result"
    }
   ],
   "source": [
    "cv2.waitKey(0) "
   ]
  },
  {
   "cell_type": "code",
   "execution_count": 21,
   "id": "a47315d5-8fc1-4426-8f31-ef01caff830a",
   "metadata": {},
   "outputs": [
    {
     "data": {
      "text/plain": [
       "True"
      ]
     },
     "execution_count": 21,
     "metadata": {},
     "output_type": "execute_result"
    }
   ],
   "source": [
    "cv2.imwrite(\"output.jpg\", img) # create new copy of image with cv"
   ]
  },
  {
   "cell_type": "code",
   "execution_count": 25,
   "id": "d17c7d4e-4d13-4501-b64e-937e0536fb93",
   "metadata": {},
   "outputs": [],
   "source": [
    "img2 = cv2.imread(\"opencv-logo.png\", 1) #load image in color"
   ]
  },
  {
   "cell_type": "code",
   "execution_count": 27,
   "id": "544a5384-ec18-4ff3-a841-f4895667a1af",
   "metadata": {},
   "outputs": [
    {
     "data": {
      "text/plain": [
       "array([[[255, 255, 255],\n",
       "        [255, 255, 255],\n",
       "        [255, 255, 255],\n",
       "        ...,\n",
       "        [255, 255, 255],\n",
       "        [255, 255, 255],\n",
       "        [255, 255, 255]],\n",
       "\n",
       "       [[255, 255, 255],\n",
       "        [255, 255, 255],\n",
       "        [255, 255, 255],\n",
       "        ...,\n",
       "        [255, 255, 255],\n",
       "        [255, 255, 255],\n",
       "        [255, 255, 255]],\n",
       "\n",
       "       [[255, 255, 255],\n",
       "        [255, 255, 255],\n",
       "        [255, 255, 255],\n",
       "        ...,\n",
       "        [255, 255, 255],\n",
       "        [255, 255, 255],\n",
       "        [255, 255, 255]],\n",
       "\n",
       "       ...,\n",
       "\n",
       "       [[255, 255, 255],\n",
       "        [255, 255, 255],\n",
       "        [255, 255, 255],\n",
       "        ...,\n",
       "        [255, 255, 255],\n",
       "        [255, 255, 255],\n",
       "        [255, 255, 255]],\n",
       "\n",
       "       [[255, 255, 255],\n",
       "        [255, 255, 255],\n",
       "        [255, 255, 255],\n",
       "        ...,\n",
       "        [255, 255, 255],\n",
       "        [255, 255, 255],\n",
       "        [255, 255, 255]],\n",
       "\n",
       "       [[255, 255, 255],\n",
       "        [255, 255, 255],\n",
       "        [255, 255, 255],\n",
       "        ...,\n",
       "        [255, 255, 255],\n",
       "        [255, 255, 255],\n",
       "        [255, 255, 255]]], dtype=uint8)"
      ]
     },
     "execution_count": 27,
     "metadata": {},
     "output_type": "execute_result"
    }
   ],
   "source": [
    "img2"
   ]
  },
  {
   "cell_type": "code",
   "execution_count": 29,
   "id": "b683a7aa-3880-4e0b-ba10-5a4dd4c34c91",
   "metadata": {},
   "outputs": [
    {
     "data": {
      "text/plain": [
       "numpy.ndarray"
      ]
     },
     "execution_count": 29,
     "metadata": {},
     "output_type": "execute_result"
    }
   ],
   "source": [
    "type(img)"
   ]
  },
  {
   "cell_type": "code",
   "execution_count": 31,
   "id": "d4c45840-522e-4079-8c09-34afaea7050f",
   "metadata": {},
   "outputs": [
    {
     "data": {
      "text/plain": [
       "739"
      ]
     },
     "execution_count": 31,
     "metadata": {},
     "output_type": "execute_result"
    }
   ],
   "source": [
    "len(img) # rows"
   ]
  },
  {
   "cell_type": "code",
   "execution_count": 33,
   "id": "46659ece-3f89-4e3a-952d-1b567138a656",
   "metadata": {},
   "outputs": [
    {
     "data": {
      "text/plain": [
       "600"
      ]
     },
     "execution_count": 33,
     "metadata": {},
     "output_type": "execute_result"
    }
   ],
   "source": [
    "len(img[0]) # cols"
   ]
  },
  {
   "cell_type": "code",
   "execution_count": 35,
   "id": "0f6fe2d2-41e0-4a53-b15a-4b5785c2b4ab",
   "metadata": {},
   "outputs": [
    {
     "data": {
      "text/plain": [
       "3"
      ]
     },
     "execution_count": 35,
     "metadata": {},
     "output_type": "execute_result"
    }
   ],
   "source": [
    "len(img[0][0]) # channels"
   ]
  },
  {
   "cell_type": "code",
   "execution_count": 37,
   "id": "b731cd9b-1ac4-4be6-979f-a6696553df97",
   "metadata": {},
   "outputs": [
    {
     "data": {
      "text/plain": [
       "(739, 600, 3)"
      ]
     },
     "execution_count": 37,
     "metadata": {},
     "output_type": "execute_result"
    }
   ],
   "source": [
    "img.shape"
   ]
  },
  {
   "cell_type": "code",
   "execution_count": 39,
   "id": "0afad551-4763-4e98-954f-6327259eb342",
   "metadata": {},
   "outputs": [
    {
     "data": {
      "text/plain": [
       "dtype('uint8')"
      ]
     },
     "execution_count": 39,
     "metadata": {},
     "output_type": "execute_result"
    }
   ],
   "source": [
    "img.dtype"
   ]
  },
  {
   "cell_type": "code",
   "execution_count": 41,
   "id": "7fe1afa9-b53b-4c93-b27f-3150880944eb",
   "metadata": {},
   "outputs": [
    {
     "data": {
      "text/plain": [
       "array([255, 255, 255], dtype=uint8)"
      ]
     },
     "execution_count": 41,
     "metadata": {},
     "output_type": "execute_result"
    }
   ],
   "source": [
    "img[10, 5]"
   ]
  },
  {
   "cell_type": "code",
   "execution_count": 43,
   "id": "066910c5-631d-465c-908e-dc423e76732b",
   "metadata": {},
   "outputs": [
    {
     "data": {
      "text/plain": [
       "array([[255, 255, 255, ..., 255, 255, 255],\n",
       "       [255, 255, 255, ..., 255, 255, 255],\n",
       "       [255, 255, 255, ..., 255, 255, 255],\n",
       "       ...,\n",
       "       [255, 255, 255, ..., 255, 255, 255],\n",
       "       [255, 255, 255, ..., 255, 255, 255],\n",
       "       [255, 255, 255, ..., 255, 255, 255]], dtype=uint8)"
      ]
     },
     "execution_count": 43,
     "metadata": {},
     "output_type": "execute_result"
    }
   ],
   "source": [
    "img[:,:,0]"
   ]
  },
  {
   "cell_type": "code",
   "execution_count": 45,
   "id": "83f16614-bf53-43e5-b813-f5464528d546",
   "metadata": {},
   "outputs": [
    {
     "data": {
      "text/plain": [
       "1330200"
      ]
     },
     "execution_count": 45,
     "metadata": {},
     "output_type": "execute_result"
    }
   ],
   "source": [
    "img.size"
   ]
  },
  {
   "cell_type": "markdown",
   "id": "ff9aeb45-da7d-4f0f-b822-d13b1855d856",
   "metadata": {},
   "source": [
    "Module 3\n"
   ]
  },
  {
   "cell_type": "code",
   "execution_count": 47,
   "id": "e32868bf-b1c4-47fb-8df0-8baf99eb5d07",
   "metadata": {},
   "outputs": [],
   "source": [
    "black = np.zeros([150, 200, 1],'uint8')"
   ]
  },
  {
   "cell_type": "code",
   "execution_count": 49,
   "id": "65d3ffd8-7873-4139-93fc-1cc251510632",
   "metadata": {},
   "outputs": [
    {
     "name": "stdout",
     "output_type": "stream",
     "text": [
      "[0]\n"
     ]
    }
   ],
   "source": [
    "cv2.imshow(\"Black\",black)\n",
    "print(black[0,0,:])"
   ]
  },
  {
   "cell_type": "code",
   "execution_count": 55,
   "id": "73b681fd-056a-4ce8-acb1-88c309a47867",
   "metadata": {},
   "outputs": [
    {
     "name": "stdout",
     "output_type": "stream",
     "text": [
      "[1 1 1]\n"
     ]
    }
   ],
   "source": [
    "ones = np.ones([150,200,3],'uint8')\n",
    "cv2.imshow(\"Ones\",ones)\n",
    "print(ones[0,0,:])"
   ]
  },
  {
   "cell_type": "code",
   "execution_count": 59,
   "id": "ab6d7c90-824d-45b4-b04d-b11dd0181814",
   "metadata": {},
   "outputs": [
    {
     "name": "stdout",
     "output_type": "stream",
     "text": [
      "[65535 65535 65535]\n"
     ]
    }
   ],
   "source": [
    "white = np.ones([150,200,3],'uint16')\n",
    "white *= (2**16 - 1)\n",
    "cv2.imshow(\"White\", white)\n",
    "print(white[0,0,:])"
   ]
  },
  {
   "cell_type": "code",
   "execution_count": 63,
   "id": "1d3f88e2-14bf-47b4-924f-9ab2a864d101",
   "metadata": {},
   "outputs": [
    {
     "name": "stdout",
     "output_type": "stream",
     "text": [
      "[255   0   0]\n"
     ]
    }
   ],
   "source": [
    "color = ones.copy()\n",
    "color[:,:] = (255,0,0)\n",
    "cv2.imshow(\"Blue\",color)\n",
    "print(color[0,0,:])"
   ]
  },
  {
   "cell_type": "code",
   "execution_count": 65,
   "id": "954c0fa2-0538-4603-8c94-a87fd8bc38e0",
   "metadata": {},
   "outputs": [],
   "source": [
    "cv2.waitKey(0)\n",
    "cv2.destroyAllWindows()"
   ]
  },
  {
   "cell_type": "markdown",
   "id": "b31be4ba-75a7-4996-a50f-e257d485e4a3",
   "metadata": {},
   "source": [
    "Module 4"
   ]
  },
  {
   "cell_type": "code",
   "execution_count": 75,
   "id": "8ef5df40-9457-44e3-8bda-b6035e061890",
   "metadata": {},
   "outputs": [
    {
     "name": "stdout",
     "output_type": "stream",
     "text": [
      "(356, 493, 3)\n"
     ]
    }
   ],
   "source": [
    "\n",
    "color = cv2.imread(\"butterfly.jpg\",1)\n",
    "cv2.imshow(\"Image\",color)\n",
    "cv2.moveWindow(\"Image\",0,0)\n",
    "print(color.shape)\n",
    "height,width,channels = color.shape\n"
   ]
  },
  {
   "cell_type": "code",
   "execution_count": 77,
   "id": "c7ecf7d0-4d49-4903-9f90-5de819defa1d",
   "metadata": {},
   "outputs": [],
   "source": [
    "b,g,r = cv2.split(color)\n",
    "\n",
    "rgb_split = np.empty([height,width*3,3],'uint8')\n",
    "\n",
    "rgb_split[:, 0:width] = cv2.merge([b,b,b])\n",
    "rgb_split[:,width:width*2] = cv2.merge([g,g,g])\n",
    "rgb_split[:, width*2:width*3] = cv2.merge([r,r,r])\n",
    "\n",
    "cv2.imshow(\"Channels\", rgb_split)\n",
    "cv2.moveWindow(\"Channels\",0,height)"
   ]
  },
  {
   "cell_type": "code",
   "execution_count": 81,
   "id": "005da05b-46a4-45b1-8775-834d499947ca",
   "metadata": {},
   "outputs": [],
   "source": [
    "hsv = cv2.cvtColor(color, cv2.COLOR_BGR2HSV)\n",
    "h,s,v = cv2.split(hsv)\n",
    "hsv_split = np.concatenate((h,s,v),axis=1)\n",
    "cv2.imshow(\"Split HSV\", hsv_split)"
   ]
  },
  {
   "cell_type": "code",
   "execution_count": 83,
   "id": "13c4ad9a-f0eb-485e-844f-af079be66eb2",
   "metadata": {},
   "outputs": [],
   "source": [
    "cv2.waitKey(0)\n",
    "cv2.destroyAllWindows()"
   ]
  },
  {
   "cell_type": "markdown",
   "id": "4d1333e2-181f-44eb-85a4-16e39178c90e",
   "metadata": {},
   "source": [
    " Module 5"
   ]
  },
  {
   "cell_type": "code",
   "execution_count": 85,
   "id": "5d7053cf-5caa-44e3-a7ca-41ba73b5302e",
   "metadata": {},
   "outputs": [
    {
     "data": {
      "text/plain": [
       "True"
      ]
     },
     "execution_count": 85,
     "metadata": {},
     "output_type": "execute_result"
    }
   ],
   "source": [
    "gray = cv2.cvtColor(color, cv2.COLOR_RGB2GRAY)\n",
    "cv2.imwrite(\"gray.jpg\", gray)\n"
   ]
  },
  {
   "cell_type": "code",
   "execution_count": 25,
   "id": "f01248be-0f42-4239-9867-4dcc30ac6407",
   "metadata": {},
   "outputs": [
    {
     "ename": "NameError",
     "evalue": "name 'color' is not defined",
     "output_type": "error",
     "traceback": [
      "\u001b[1;31m---------------------------------------------------------------------------\u001b[0m",
      "\u001b[1;31mNameError\u001b[0m                                 Traceback (most recent call last)",
      "Cell \u001b[1;32mIn[25], line 1\u001b[0m\n\u001b[1;32m----> 1\u001b[0m b \u001b[38;5;241m=\u001b[39m color[:,:,\u001b[38;5;241m0\u001b[39m]\n\u001b[0;32m      2\u001b[0m g \u001b[38;5;241m=\u001b[39m color[:,:,\u001b[38;5;241m1\u001b[39m]\n\u001b[0;32m      3\u001b[0m r \u001b[38;5;241m=\u001b[39m color[:,:,\u001b[38;5;241m2\u001b[39m]\n",
      "\u001b[1;31mNameError\u001b[0m: name 'color' is not defined"
     ]
    }
   ],
   "source": [
    "b = color[:,:,0]\n",
    "g = color[:,:,1]\n",
    "r = color[:,:,2]\n",
    "\n",
    "rgba = cv2.merge((b,g,r,g))\n",
    "cv2.imwrite(\"rgba.png\",rgba)"
   ]
  },
  {
   "cell_type": "markdown",
   "id": "c28bf9ee-ae60-46b5-b4ae-e9f476d8553f",
   "metadata": {},
   "source": [
    "Module 6"
   ]
  },
  {
   "cell_type": "code",
   "execution_count": 5,
   "id": "16fb1572-5d74-4a13-85a2-d15b6fade851",
   "metadata": {},
   "outputs": [],
   "source": [
    "image = cv2.imread(\"thresh.jpg\")\n",
    "cv2.imshow(\"Original\", image)\n"
   ]
  },
  {
   "cell_type": "code",
   "execution_count": 9,
   "id": "f176d39f-1850-4b47-8137-094c1cb98323",
   "metadata": {},
   "outputs": [],
   "source": [
    "blur = cv2.GaussianBlur(image, (5,55), 0)\n",
    "cv2.imshow(\"Blur\",blur)\n"
   ]
  },
  {
   "cell_type": "code",
   "execution_count": 13,
   "id": "be2ceb77-a0e6-4ba0-9213-0685c841a63b",
   "metadata": {},
   "outputs": [],
   "source": [
    "kernel = np.ones((5,5),'uint8')\n",
    "dilate = cv2.dilate(image, kernel, iterations=1)\n",
    "erode = cv2.erode(image, kernel, iterations=1)\n",
    "cv2.imshow(\"Dilate\", dilate)\n",
    "cv2.imshow(\"Erode\", erode)"
   ]
  },
  {
   "cell_type": "code",
   "execution_count": 15,
   "id": "ceac793a-69be-4e35-b7de-c880cbe55bfe",
   "metadata": {},
   "outputs": [],
   "source": [
    "cv2.waitKey(0)\n",
    "cv2.destroyAllWindows()"
   ]
  },
  {
   "cell_type": "markdown",
   "id": "ca1a98a9-5b26-4935-a1d3-69ad15c49577",
   "metadata": {},
   "source": [
    "Module 7"
   ]
  },
  {
   "cell_type": "code",
   "execution_count": 17,
   "id": "49386737-512b-4e29-b6a4-e578a2779d43",
   "metadata": {},
   "outputs": [],
   "source": [
    "img3 = cv2.imread(\"players.jpg\", 1)"
   ]
  },
  {
   "cell_type": "code",
   "execution_count": 21,
   "id": "fc16cb2d-aaf9-4355-ba32-5481fa47b217",
   "metadata": {},
   "outputs": [],
   "source": [
    "img_half = cv2.resize(img3, (0,0), fx = 0.5, fy = 0.5)\n",
    "img_stretch = cv2.resize(img3, (600,600))\n",
    "img_stretch_near = cv2.resize(img3, (600,600), interpolation = cv2.INTER_NEAREST)"
   ]
  },
  {
   "cell_type": "code",
   "execution_count": 23,
   "id": "06acd45f-c244-4d57-8330-985362e0b13b",
   "metadata": {},
   "outputs": [],
   "source": [
    "cv2.imshow(\"Half\", img_half)\n",
    "cv2.imshow(\"Stretch\", img_stretch)\n",
    "cv2.imshow(\"Stretch near\", img_stretch_near)\n",
    "\n"
   ]
  },
  {
   "cell_type": "code",
   "execution_count": 33,
   "id": "ca570a87-7c13-4862-995a-8692b9c22b80",
   "metadata": {},
   "outputs": [],
   "source": [
    "M = cv2.getRotationMatrix2D((0,0), -30,1)\n",
    "rotated = cv2.warpAffine(img3, M, (img3.shape[1], img3.shape[0]))\n",
    "cv2.imshow(\"Rotated\", rotated)"
   ]
  },
  {
   "cell_type": "code",
   "execution_count": 35,
   "id": "0be11843-da26-481f-8db4-ff491a0ceb25",
   "metadata": {},
   "outputs": [],
   "source": [
    "cv2.waitKey(0)\n",
    "cv2.destroyAllWindows()"
   ]
  },
  {
   "cell_type": "markdown",
   "id": "7fef1cdc-4c77-4ffd-ae20-08b64d01b037",
   "metadata": {},
   "source": [
    "Module 8 and 9"
   ]
  },
  {
   "cell_type": "code",
   "execution_count": 61,
   "id": "ec1b533e-5052-4d86-8bcb-c406df3faed0",
   "metadata": {},
   "outputs": [],
   "source": [
    "cap = cv2.VideoCapture(0)"
   ]
  },
  {
   "cell_type": "code",
   "execution_count": 62,
   "id": "eac61475-116a-4de3-9df4-6c74de733b29",
   "metadata": {},
   "outputs": [],
   "source": [
    "color = (0,255,0)\n",
    "line_width = 3\n",
    "radius = 100\n",
    "point = (0,0)"
   ]
  },
  {
   "cell_type": "code",
   "execution_count": 63,
   "id": "3008ff3e-890a-45c2-9c6a-32428a309a29",
   "metadata": {},
   "outputs": [],
   "source": [
    "def click(event, x, y, flags, param):\n",
    "    global point, pressed\n",
    "    if event == cv2.EVENT_LBUTTONDOWN:\n",
    "        print(\"Pressed\", x, y)\n",
    "        point = (x,y)"
   ]
  },
  {
   "cell_type": "code",
   "execution_count": 64,
   "id": "ffb05d08-d646-438d-9dc5-3bd0d201bfd2",
   "metadata": {},
   "outputs": [],
   "source": [
    "cv2.namedWindow(\"Frame\")\n",
    "cv2.setMouseCallback(\"Frame\",click)"
   ]
  },
  {
   "cell_type": "code",
   "execution_count": 69,
   "id": "6625533c-d97c-4359-8fc4-a991e66877db",
   "metadata": {},
   "outputs": [
    {
     "name": "stdout",
     "output_type": "stream",
     "text": [
      "Pressed 135 141\n",
      "Pressed 182 137\n",
      "Pressed 180 125\n",
      "Pressed 165 123\n",
      "Pressed 178 118\n",
      "Pressed 157 158\n",
      "Pressed 142 177\n",
      "Pressed 152 106\n",
      "Pressed 174 65\n",
      "Pressed 212 119\n",
      "Pressed 143 167\n",
      "Pressed 160 119\n",
      "Pressed 121 180\n",
      "Pressed 259 117\n",
      "Pressed 309 122\n",
      "Pressed 309 122\n",
      "Pressed 308 123\n",
      "Pressed 126 131\n",
      "Pressed 97 131\n",
      "Pressed 73 83\n",
      "Pressed 135 64\n",
      "Pressed 274 101\n",
      "Pressed 291 149\n",
      "Pressed 228 198\n",
      "Pressed 124 200\n",
      "Pressed 93 184\n",
      "Pressed 102 100\n",
      "Pressed 164 70\n",
      "Pressed 259 87\n",
      "Pressed 269 161\n",
      "Pressed 222 216\n",
      "Pressed 134 226\n",
      "Pressed 51 179\n",
      "Pressed 80 94\n",
      "Pressed 165 88\n",
      "Pressed 252 109\n",
      "Pressed 241 191\n",
      "Pressed 177 222\n",
      "Pressed 70 209\n",
      "Pressed 61 140\n",
      "Pressed 119 92\n",
      "Pressed 198 105\n"
     ]
    }
   ],
   "source": [
    "while(True):\n",
    "    ret, frame = cap.read()\n",
    "\n",
    "    frame = cv2.resize(frame, (0,0), fx=0.5, fy=0.5)\n",
    "    cv2.circle(frame, point, radius, color, line_width)\n",
    "    cv2.imshow(\"Frame\", frame)\n",
    "\n",
    "    ch = cv2.waitKey(1)\n",
    "    if ch & 0xFF == ord('q'):\n",
    "        break\n",
    "cap.release()\n",
    "cv2.destroyAllWindows()"
   ]
  },
  {
   "cell_type": "code",
   "execution_count": null,
   "id": "241451d8-2316-4a53-978c-acb7a800589b",
   "metadata": {},
   "outputs": [],
   "source": []
  }
 ],
 "metadata": {
  "kernelspec": {
   "display_name": "Python 3 (ipykernel)",
   "language": "python",
   "name": "python3"
  },
  "language_info": {
   "codemirror_mode": {
    "name": "ipython",
    "version": 3
   },
   "file_extension": ".py",
   "mimetype": "text/x-python",
   "name": "python",
   "nbconvert_exporter": "python",
   "pygments_lexer": "ipython3",
   "version": "3.12.4"
  }
 },
 "nbformat": 4,
 "nbformat_minor": 5
}
