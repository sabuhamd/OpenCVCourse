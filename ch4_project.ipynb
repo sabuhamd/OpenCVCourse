{
 "cells": [
  {
   "cell_type": "code",
   "execution_count": 1,
   "id": "8c7f5922-c585-4ba3-8983-2ba7f8c6df2c",
   "metadata": {},
   "outputs": [],
   "source": [
    "import numpy as np\n",
    "import cv2"
   ]
  },
  {
   "cell_type": "code",
   "execution_count": 20,
   "id": "5eb8e54a-8fbb-4fc4-b78e-d878d3b818ef",
   "metadata": {},
   "outputs": [],
   "source": [
    "#Eye detection\n",
    "img=cv2.imread(\"faces.jpeg\",1)\n",
    "gray = cv2.cvtColor(img,cv2.COLOR_BGR2GRAY)\n",
    "path = \"haarcascade_eye.xml\"\n",
    "\n",
    "eye_cascade = cv2.CascadeClassifier(path)\n",
    "eyes = eye_cascade.detectMultiScale(gray, scaleFactor=1.02, minNeighbors=20, minSize = (10,10))\n",
    "\n",
    "for (x,y,w,h) in eyes:\n",
    "    cv2.circle(img, (x+w//2, y+h//2), w//2, (255,0,0), 2)\n",
    "cv2.imshow(\"Eye detection\",img)\n",
    "cv2.waitKey(0)\n",
    "cv2.destroyAllWindows()"
   ]
  },
  {
   "cell_type": "code",
   "execution_count": null,
   "id": "f2218d6b-90e3-46ab-915e-93b8359887bd",
   "metadata": {},
   "outputs": [],
   "source": []
  }
 ],
 "metadata": {
  "kernelspec": {
   "display_name": "Python 3 (ipykernel)",
   "language": "python",
   "name": "python3"
  },
  "language_info": {
   "codemirror_mode": {
    "name": "ipython",
    "version": 3
   },
   "file_extension": ".py",
   "mimetype": "text/x-python",
   "name": "python",
   "nbconvert_exporter": "python",
   "pygments_lexer": "ipython3",
   "version": "3.12.4"
  }
 },
 "nbformat": 4,
 "nbformat_minor": 5
}
