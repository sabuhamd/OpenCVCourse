{
 "cells": [
  {
   "cell_type": "code",
   "execution_count": 12,
   "id": "9ca2ca20-7107-4ff6-a813-96603e00056f",
   "metadata": {},
   "outputs": [],
   "source": [
    "import numpy as np\n",
    "import cv2\n",
    "import random"
   ]
  },
  {
   "cell_type": "code",
   "execution_count": 16,
   "id": "9b8cac6d-673a-4969-add4-44f7eb343222",
   "metadata": {},
   "outputs": [
    {
     "name": "stdout",
     "output_type": "stream",
     "text": [
      "4942.0\n",
      "29907.5\n",
      "17280.5\n"
     ]
    }
   ],
   "source": [
    "img = cv2.imread(\"fuzzy.png\", 1) #load image\n",
    "cv2.imshow(\"Original\", img) # prep for display of original image\n",
    "\n",
    "\n",
    "\n",
    "\n",
    "#Convert to grayscale, smooth, and aplly threshold\n",
    "gray = cv2.cvtColor(img, cv2.COLOR_BGR2GRAY)\n",
    "smoothed = cv2.GaussianBlur(gray, (5,5), 0)\n",
    "thresh = cv2.adaptiveThreshold(smoothed, 255, cv2.ADAPTIVE_THRESH_GAUSSIAN_C, cv2.THRESH_BINARY_INV, 205,1)\n",
    "\n",
    "#Find contours\n",
    "contours, hierarchy = cv2.findContours(thresh, cv2.RETR_TREE, cv2.CHAIN_APPROX_SIMPLE)\n",
    "\n",
    "\n",
    "#filter through contours\n",
    "filtered = []\n",
    "for c in contours:\n",
    "    if cv2.contourArea(c) < 1000:\n",
    "        continue\n",
    "    filtered.append(c)\n",
    "\n",
    "\n",
    "#Create blank canvas\n",
    "output = np.zeros([img.shape[0], img.shape[1], 3], 'uint8')\n",
    "for c in filtered:\n",
    "    col = (random.randint(0,255), random.randint(0,255), random.randint(0,255))\n",
    "    cv2.drawContours(output, [c], -1, col, -1)\n",
    "    area = cv2.contourArea(c)\n",
    "    print(area)\n",
    "\n",
    "\n",
    "\n",
    "\n",
    "#Show result\n",
    "cv2.imshow(\"Detected Squares\", output)\n",
    "cv2.waitKey(0)\n",
    "cv2.destroyAllWindows()\n",
    "\n"
   ]
  },
  {
   "cell_type": "code",
   "execution_count": null,
   "id": "8b7001bf-e8d3-4d48-b7fd-a59eb33c8b50",
   "metadata": {},
   "outputs": [],
   "source": []
  }
 ],
 "metadata": {
  "kernelspec": {
   "display_name": "Python 3 (ipykernel)",
   "language": "python",
   "name": "python3"
  },
  "language_info": {
   "codemirror_mode": {
    "name": "ipython",
    "version": 3
   },
   "file_extension": ".py",
   "mimetype": "text/x-python",
   "name": "python",
   "nbconvert_exporter": "python",
   "pygments_lexer": "ipython3",
   "version": "3.12.4"
  }
 },
 "nbformat": 4,
 "nbformat_minor": 5
}
